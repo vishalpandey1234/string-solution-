{
 "cells": [
  {
   "cell_type": "markdown",
   "id": "cfa3bb4f-6d08-4697-8224-8fdbda37cef2",
   "metadata": {},
   "source": [
    "# 1. How do you concatenate two strings in Python?\n"
   ]
  },
  {
   "cell_type": "code",
   "execution_count": 5,
   "id": "20cfacde-f4d5-41a7-8399-8d0faadfff03",
   "metadata": {},
   "outputs": [
    {
     "name": "stdout",
     "output_type": "stream",
     "text": [
      "vishalpandey\n"
     ]
    }
   ],
   "source": [
    "\"\"\"yes you can add two words by using just +symbol\n",
    "ex:-\"\"\" \n",
    "frist_name=\"vishal\"\n",
    "last_name=\"pandey\"\n",
    "full_name=frist_name+last_name\n",
    "print(full_name)"
   ]
  },
  {
   "cell_type": "markdown",
   "id": "7a42aa64-57ca-46b5-a1fc-3b675c35618b",
   "metadata": {},
   "source": [
    "#  2. What is the di erence between the + operator and the join() method for concatenating strings? \n"
   ]
  },
  {
   "cell_type": "code",
   "execution_count": 9,
   "id": "509822ea-7c8b-46eb-9a63-e45cef53c3a7",
   "metadata": {},
   "outputs": [
    {
     "name": "stdout",
     "output_type": "stream",
     "text": [
      "hello python\n"
     ]
    }
   ],
   "source": [
    "\"\"\"in operator we can add only 2,3 strings \n",
    "it is easy to ready and write \n",
    "ex:-\"\"\" \n",
    "a= \"hello \"\n",
    "b=\"python\"\n",
    "print(a+b)"
   ]
  },
  {
   "cell_type": "code",
   "execution_count": 25,
   "id": "eb044d98-e3c7-4373-99bc-c3a727b74c17",
   "metadata": {},
   "outputs": [
    {
     "name": "stdout",
     "output_type": "stream",
     "text": [
      "hello @my @name @is @vishal \n"
     ]
    }
   ],
   "source": [
    "\"\"\"in joins we can add many strings in group of list\n",
    "it is used as separator like:-@,-, etc\"\"\"\n",
    "name=\"hello \",\"my \",\"name \",\"is \",\"vishal \"\n",
    "print(\"@\".join(name))"
   ]
  },
  {
   "cell_type": "markdown",
   "id": "ab73a68e-1ec6-4b86-bd01-5bbd418fccda",
   "metadata": {},
   "source": [
    "#  3. How do you access individual characters in a string? \n"
   ]
  },
  {
   "cell_type": "code",
   "execution_count": 30,
   "id": "5468ed34-a312-49f8-9d76-ac44dea53cf5",
   "metadata": {},
   "outputs": [
    {
     "name": "stdout",
     "output_type": "stream",
     "text": [
      "m\n"
     ]
    }
   ],
   "source": [
    "\"\"\"you can access individual character in string by using square brackets []\"\"\"\n",
    "name=\"wenicjxmuvxrmcnx\"\n",
    "print(name[7])"
   ]
  },
  {
   "cell_type": "markdown",
   "id": "65b3f62b-7fe5-49a0-89bb-35b3515d5ab7",
   "metadata": {},
   "source": [
    "#  4. What method is used to find the length of a string in Python"
   ]
  },
  {
   "cell_type": "code",
   "execution_count": 37,
   "id": "9f7f8109-7f58-4341-84e6-a022a4dcb0a2",
   "metadata": {},
   "outputs": [
    {
     "name": "stdout",
     "output_type": "stream",
     "text": [
      "48\n"
     ]
    }
   ],
   "source": [
    "name=\"nndnjrncuxmeryeirosxmjsfcxvikrmksgscxdmdmiywtqwq\"\n",
    "print(len(name))"
   ]
  },
  {
   "cell_type": "markdown",
   "id": "1d435ba9-2570-4ef1-ae13-873213e6443b",
   "metadata": {},
   "source": [
    "#  5. How can you convert a string to uppercase in Python? \n"
   ]
  },
  {
   "cell_type": "code",
   "execution_count": 42,
   "id": "0f70ff14-1cf8-474c-a171-9363f41d5d1c",
   "metadata": {},
   "outputs": [
    {
     "name": "stdout",
     "output_type": "stream",
     "text": [
      "PYTHON\n"
     ]
    }
   ],
   "source": [
    "name=\"python\"\n",
    "print(name.upper())"
   ]
  },
  {
   "cell_type": "markdown",
   "id": "fc674aa3-fb66-46a1-99c2-80f8c7ba3fd5",
   "metadata": {},
   "source": [
    "# 6. How can you convert a string to lowercase in Python?\n"
   ]
  },
  {
   "cell_type": "code",
   "execution_count": 45,
   "id": "1081d066-02f6-4181-8061-c6d464959bbf",
   "metadata": {},
   "outputs": [
    {
     "name": "stdout",
     "output_type": "stream",
     "text": [
      "python\n"
     ]
    }
   ],
   "source": [
    "name=\"PYTHON\"\n",
    "print(name.lower())"
   ]
  },
  {
   "cell_type": "markdown",
   "id": "9be09d48-0437-4538-8270-6ca129cf9321",
   "metadata": {},
   "source": [
    "# 7. What method is used to replace substrings within a string?\n"
   ]
  },
  {
   "cell_type": "code",
   "execution_count": 53,
   "id": "c9d3837a-b031-4509-b122-e10f24814b2e",
   "metadata": {},
   "outputs": [
    {
     "name": "stdout",
     "output_type": "stream",
     "text": [
      "hello vishal\n"
     ]
    }
   ],
   "source": [
    "name=\"hello world\"\n",
    "print(name.replace(\"world\",\"vishal\"))"
   ]
  },
  {
   "cell_type": "markdown",
   "id": "379bd7a5-f720-4b9d-bd5c-3c181f5903cf",
   "metadata": {},
   "source": [
    "# 8. How can you split a string into a list of substrings based on a delimiter?\n"
   ]
  },
  {
   "cell_type": "code",
   "execution_count": 56,
   "id": "1fb9736d-797f-41e4-89c3-92e9d58ffdb6",
   "metadata": {},
   "outputs": [
    {
     "name": "stdout",
     "output_type": "stream",
     "text": [
      "['vishal', 'pandey', 'aryan']\n"
     ]
    }
   ],
   "source": [
    "name=\"vishal pandey aryan\"\n",
    "print(name.split())"
   ]
  },
  {
   "cell_type": "markdown",
   "id": "37797f32-e7df-4e1e-bd27-81daadc4966b",
   "metadata": {},
   "source": [
    "# 9. How do you check if a string starts with a particular substring? "
   ]
  },
  {
   "cell_type": "code",
   "execution_count": 2,
   "id": "e33d0f7d-9d7b-4e33-9c72-7484f3623af9",
   "metadata": {},
   "outputs": [
    {
     "name": "stdout",
     "output_type": "stream",
     "text": [
      "True\n"
     ]
    }
   ],
   "source": [
    "name=\"vishal\"\n",
    "print(name.startswith(\"v\"))"
   ]
  },
  {
   "cell_type": "markdown",
   "id": "a4ea9966-30fa-443d-ad96-417f878837e6",
   "metadata": {},
   "source": [
    "#  10. How do you check if a string ends with a particular substring?\n"
   ]
  },
  {
   "cell_type": "code",
   "execution_count": 5,
   "id": "fa6c0baa-7b75-476c-8d29-ec89b63d0fea",
   "metadata": {},
   "outputs": [
    {
     "name": "stdout",
     "output_type": "stream",
     "text": [
      "True\n"
     ]
    }
   ],
   "source": [
    "name=\"vishal\"\n",
    "print(name.endswith(\"l\"))"
   ]
  },
  {
   "cell_type": "markdown",
   "id": "cf636bf3-e930-4234-be1d-fa6c2ff4dcf5",
   "metadata": {},
   "source": [
    "# 11. How can you remove leading and trailing whitespace from a string? \n"
   ]
  },
  {
   "cell_type": "code",
   "execution_count": 24,
   "id": "f31c219b-6a3f-4d8a-98f6-eddd050b0447",
   "metadata": {},
   "outputs": [
    {
     "name": "stdout",
     "output_type": "stream",
     "text": [
      "vishalpandey\n"
     ]
    }
   ],
   "source": [
    "name=\"                vishalpandey                   \"\n",
    "print(name.strip())"
   ]
  },
  {
   "cell_type": "markdown",
   "id": "a35a8f14-d3bd-4ce6-983b-440c12015cc0",
   "metadata": {},
   "source": [
    "# 12. What method is used to find the index of the first occurrence of a substring within a string? \n"
   ]
  },
  {
   "cell_type": "code",
   "execution_count": 34,
   "id": "27fd81d6-db4d-49e7-bb55-b39187bb3ad0",
   "metadata": {},
   "outputs": [
    {
     "name": "stdout",
     "output_type": "stream",
     "text": [
      "6\n"
     ]
    }
   ],
   "source": [
    "txt=\"india wins wars\"\n",
    "print(txt.find(\"wins\"))"
   ]
  },
  {
   "cell_type": "markdown",
   "id": "ce597dce-54b7-4b47-82db-13ac6a1f0dfa",
   "metadata": {},
   "source": [
    "#  13. How can you count the number of occurrences of a substring within a string?  "
   ]
  },
  {
   "cell_type": "code",
   "execution_count": 39,
   "id": "7d06abcd-83dd-40a0-8733-927a1db347e4",
   "metadata": {},
   "outputs": [
    {
     "name": "stdout",
     "output_type": "stream",
     "text": [
      "2\n"
     ]
    }
   ],
   "source": [
    "name=\"hjkkutgjsmxytsgskv\"\n",
    "print(name.count(\"j\"))"
   ]
  },
  {
   "cell_type": "markdown",
   "id": "13dcaf01-81bc-40e2-9843-8734769d1c84",
   "metadata": {},
   "source": [
    "# 14. How do you check if a string contains only alphabetic characters?"
   ]
  },
  {
   "cell_type": "code",
   "execution_count": 44,
   "id": "1ed2e748-1c04-46a8-8bcb-17395110c702",
   "metadata": {},
   "outputs": [
    {
     "name": "stdout",
     "output_type": "stream",
     "text": [
      "True\n"
     ]
    }
   ],
   "source": [
    "txt=\"helloworld\"\n",
    "print(txt.isalpha())"
   ]
  },
  {
   "cell_type": "markdown",
   "id": "8c025f3d-8a65-4b9b-a735-3dadffdfbcf2",
   "metadata": {},
   "source": [
    "#  15. How do you check if a string contains only numeric characters? "
   ]
  },
  {
   "cell_type": "code",
   "execution_count": 49,
   "id": "b9849624-899f-4200-90ef-3d585e0d35d5",
   "metadata": {},
   "outputs": [
    {
     "name": "stdout",
     "output_type": "stream",
     "text": [
      "True\n"
     ]
    }
   ],
   "source": [
    "txt=\"2222\"\n",
    "print(txt.isalnum())"
   ]
  },
  {
   "cell_type": "markdown",
   "id": "8f67ba58-c56f-437f-a82c-d27674db17f2",
   "metadata": {},
   "source": [
    "#  16. How can you check if a string is a palindrome? "
   ]
  },
  {
   "cell_type": "code",
   "execution_count": 72,
   "id": "8cdbb472-0759-4448-aaad-ed70db155080",
   "metadata": {},
   "outputs": [
    {
     "name": "stdout",
     "output_type": "stream",
     "text": [
      "it is a palindrome\n"
     ]
    }
   ],
   "source": [
    "\"\"\"palindrome means the strings reads same in forward and backward\"\"\"\n",
    "txt=\"dad\"\n",
    "if txt == txt[::-1]:\n",
    "    print(\"it is a palindrome\")\n",
    "else:\n",
    "    print(\"it is not palindrome\")"
   ]
  },
  {
   "cell_type": "markdown",
   "id": "52b350a9-8878-44ce-af08-0432e0b384ff",
   "metadata": {},
   "source": [
    "# 17. How can you reverse a string in Python? "
   ]
  },
  {
   "cell_type": "code",
   "execution_count": 85,
   "id": "e1d6b073-034c-4cff-a4f7-55b7bcee1ed3",
   "metadata": {},
   "outputs": [
    {
     "name": "stdout",
     "output_type": "stream",
     "text": [
      "lahsiv yednap\n"
     ]
    }
   ],
   "source": [
    "txt=\"pandey vishal\"\n",
    "print(txt[::-1])"
   ]
  },
  {
   "cell_type": "markdown",
   "id": "ce363acd-b361-4b44-b14e-ca44de942d3d",
   "metadata": {},
   "source": [
    "#  18. How do you format a string with placeholders for variable values?  "
   ]
  },
  {
   "cell_type": "code",
   "execution_count": 106,
   "id": "18747633-a534-4576-a4e4-1980f77d9728",
   "metadata": {},
   "outputs": [
    {
     "name": "stdout",
     "output_type": "stream",
     "text": [
      "student name is \"vishal\" apllied for \"data analysis\"\n"
     ]
    }
   ],
   "source": [
    "name= \"\\\"vishal\\\"\"\n",
    "course= \"\\\"data analysis\\\"\"\n",
    "print(f\"student name is {name} apllied for {course}\")\n"
   ]
  },
  {
   "cell_type": "markdown",
   "id": "b34787d6-6474-4038-b588-c58bb4943f52",
   "metadata": {},
   "source": [
    "# 19. How do you access a substring of a string using slicing? \n"
   ]
  },
  {
   "cell_type": "code",
   "execution_count": 153,
   "id": "c8e83bb8-e742-47a9-8ba5-3482269be58e",
   "metadata": {},
   "outputs": [
    {
     "name": "stdout",
     "output_type": "stream",
     "text": [
      "yednap lahsiv\n"
     ]
    }
   ],
   "source": [
    "name=\"vishal pandey\"\n",
    "print(name[::-1])"
   ]
  },
  {
   "cell_type": "markdown",
   "id": "15e926af-d46a-4090-924b-d513e5794c25",
   "metadata": {},
   "source": [
    "#  20. How can you remove specific characters from a string in Python ?"
   ]
  },
  {
   "cell_type": "code",
   "execution_count": 158,
   "id": "7b4baae5-31e2-493d-b0af-3fd21bac4f4b",
   "metadata": {},
   "outputs": [
    {
     "name": "stdout",
     "output_type": "stream",
     "text": [
      "python\n"
     ]
    }
   ],
   "source": [
    "txt=\"paaaaaaytaaaahoaaaaaaaaaaaaaaan\"\n",
    "print(txt.replace(\"a\",\"\"))"
   ]
  },
  {
   "cell_type": "code",
   "execution_count": null,
   "id": "7423b96e-8b6c-4d4f-b92b-8bcd2e080e64",
   "metadata": {},
   "outputs": [],
   "source": []
  },
  {
   "cell_type": "code",
   "execution_count": null,
   "id": "a728a281-fbd1-4ee8-829e-b25bf0df5bda",
   "metadata": {},
   "outputs": [],
   "source": []
  },
  {
   "cell_type": "code",
   "execution_count": null,
   "id": "35cc6e23-1969-49f4-9def-fffa55482d97",
   "metadata": {},
   "outputs": [],
   "source": [
    "\n"
   ]
  },
  {
   "cell_type": "code",
   "execution_count": null,
   "id": "e79c6dc9-5030-44e4-a538-6df3ba548752",
   "metadata": {},
   "outputs": [],
   "source": []
  },
  {
   "cell_type": "code",
   "execution_count": null,
   "id": "51ec9c15-9107-4cd3-8015-110d347b997b",
   "metadata": {},
   "outputs": [],
   "source": []
  },
  {
   "cell_type": "code",
   "execution_count": null,
   "id": "6186c855-ac4b-4f91-9dda-54e06bc9244a",
   "metadata": {},
   "outputs": [],
   "source": []
  },
  {
   "cell_type": "code",
   "execution_count": null,
   "id": "a0871c1d-ca84-422b-9d98-0eedeaec45a0",
   "metadata": {},
   "outputs": [],
   "source": []
  },
  {
   "cell_type": "code",
   "execution_count": null,
   "id": "8556c626-c415-4d41-87d9-c5283676f701",
   "metadata": {},
   "outputs": [],
   "source": []
  },
  {
   "cell_type": "code",
   "execution_count": null,
   "id": "3ff8ae86-0454-4f80-8ed1-dc8c91a42e05",
   "metadata": {},
   "outputs": [],
   "source": []
  },
  {
   "cell_type": "code",
   "execution_count": null,
   "id": "34a78600-9484-4f7c-9294-e0275253d992",
   "metadata": {},
   "outputs": [],
   "source": []
  },
  {
   "cell_type": "code",
   "execution_count": null,
   "id": "07413a66-39b3-4a55-ab6d-378d84cb64a1",
   "metadata": {},
   "outputs": [],
   "source": []
  },
  {
   "cell_type": "code",
   "execution_count": null,
   "id": "b0be211d-492c-4a92-a08a-c170b1cb7c12",
   "metadata": {},
   "outputs": [],
   "source": []
  }
 ],
 "metadata": {
  "kernelspec": {
   "display_name": "Python [conda env:base] *",
   "language": "python",
   "name": "conda-base-py"
  },
  "language_info": {
   "codemirror_mode": {
    "name": "ipython",
    "version": 3
   },
   "file_extension": ".py",
   "mimetype": "text/x-python",
   "name": "python",
   "nbconvert_exporter": "python",
   "pygments_lexer": "ipython3",
   "version": "3.12.7"
  }
 },
 "nbformat": 4,
 "nbformat_minor": 5
}
